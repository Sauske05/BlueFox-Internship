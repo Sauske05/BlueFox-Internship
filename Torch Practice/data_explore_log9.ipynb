{
 "cells": [
  {
   "cell_type": "code",
   "execution_count": 1,
   "id": "8b720fad",
   "metadata": {},
   "outputs": [],
   "source": [
    "import pandas as pd\n",
    "import re\n",
    "import logging\n",
    "\n",
    "# Set up logging\n",
    "logging.basicConfig(level=logging.INFO, format='%(asctime)s - %(levelname)s - %(message)s')\n",
    "logger = logging.getLogger(__name__)\n",
    "\n",
    "def clean_text(text):\n",
    "    \"\"\"Clean text by removing special characters, normalizing whitespace, and converting to lowercase.\"\"\"\n",
    "    if not isinstance(text, str):\n",
    "        return ''\n",
    "    # Remove special characters, keep alphanumeric and basic punctuation\n",
    "    text = re.sub(r'[^\\w\\s.,!?]', '', text)\n",
    "    # Normalize whitespace\n",
    "    text = ' '.join(text.split())\n",
    "    # Convert to lowercase\n",
    "    return text.lower()\n"
   ]
  },
  {
   "cell_type": "code",
   "execution_count": 2,
   "id": "9adf6701",
   "metadata": {},
   "outputs": [],
   "source": [
    "\n",
    "def row_with_min_words(x, threshold):\n",
    "    \"\"\"Check if text has more than the specified number of words.\"\"\"\n",
    "    return len(x.split()) > threshold"
   ]
  },
  {
   "cell_type": "code",
   "execution_count": 3,
   "id": "acb48ef6",
   "metadata": {},
   "outputs": [],
   "source": [
    "\n",
    "\n",
    "def preprocess_mental_health_data(input_file, output_file):\n",
    "    \"\"\"Preprocess mental health dataset for instruction-response training.\"\"\"\n",
    "    logger.info('Starting data preprocessing...')\n",
    "\n",
    "    # Load dataset\n",
    "    try:\n",
    "        df = pd.read_csv(input_file)\n",
    "        logger.info(f'Loaded dataset with {len(df)} rows.')\n",
    "    except FileNotFoundError:\n",
    "        logger.error(f'Input file {input_file} not found.')\n",
    "        return\n",
    "\n",
    "    # Handle missing values\n",
    "    initial_len = len(df)\n",
    "    df = df.dropna(subset=['Context', 'Response']).reset_index(drop=True)\n",
    "    logger.info(f'Removed {initial_len - len(df)} rows with missing values.')\n",
    "\n",
    "    # Clean Context and Response columns\n",
    "    df['Context_clean'] = df['Context'].apply(clean_text)\n",
    "    df['Response_clean'] = df['Response'].apply(clean_text)\n",
    "\n",
    "    # Validate text lengths\n",
    "    df['context_is_valid'] = df['Context_clean'].apply(lambda x: row_with_min_words(x, 5))\n",
    "    df['response_is_valid'] = df['Response_clean'].apply(lambda x: row_with_min_words(x, 50))\n",
    "\n",
    "    # Filter out invalid rows\n",
    "    initial_len = len(df)\n",
    "    df = df[df['context_is_valid'] & df['response_is_valid']].reset_index(drop=True)\n",
    "    logger.info(f'Removed {initial_len - len(df)} rows with invalid context or response lengths.')\n",
    "\n",
    "    # Calculate tokenized lengths for quality check\n",
    "    df['context_token_count'] = df['Context_clean'].apply(lambda x: len(x.split()))\n",
    "    df['response_token_count'] = df['Response_clean'].apply(lambda x: len(x.split()))\n",
    "\n",
    "    # Remove rows with numeric-heavy responses\n",
    "    df['has_numbers'] = df['Response_clean'].str.contains(r'\\d+', regex=True, na=False)\n",
    "    initial_len = len(df)\n",
    "    df = df[~df['has_numbers']].reset_index(drop=True)\n",
    "    logger.info(f'Removed {initial_len - len(df)} rows with numeric-heavy responses.')\n",
    "\n",
    "    # Create instruction-response format for training\n",
    "    df['instruction'] = df['Context_clean'].apply(lambda x: f'Provide a supportive response to the following mental health concern: {x}')\n",
    "    df['response'] = df['Response_clean']\n",
    "\n",
    "    # Save cleaned dataset\n",
    "    df[['instruction', 'response']].to_csv(output_file, index=False)\n",
    "    logger.info(f'Cleaned dataset saved to {output_file}.')\n",
    "\n",
    "    # Log sample of cleaned data\n",
    "    logger.info('Sample of cleaned dataset:')\n",
    "    logger.info(df[['instruction', 'response']].head().to_string())"
   ]
  },
  {
   "cell_type": "code",
   "execution_count": 4,
   "id": "2b7f51aa",
   "metadata": {},
   "outputs": [],
   "source": [
    "def main():\n",
    "    input_file = './mental_health_dataset.csv'\n",
    "    output_file = './cleaned_mental_health_dataset.csv'\n",
    "    preprocess_mental_health_data(input_file, output_file)"
   ]
  },
  {
   "cell_type": "code",
   "execution_count": 5,
   "id": "be34a09f",
   "metadata": {},
   "outputs": [
    {
     "name": "stderr",
     "output_type": "stream",
     "text": [
      "2025-05-19 15:27:10,368 - INFO - Starting data preprocessing...\n",
      "2025-05-19 15:27:10,534 - INFO - Loaded dataset with 3000 rows.\n",
      "2025-05-19 15:27:10,542 - INFO - Removed 0 rows with missing values.\n",
      "2025-05-19 15:27:10,647 - INFO - Removed 0 rows with invalid context or response lengths.\n",
      "2025-05-19 15:27:10,703 - INFO - Removed 0 rows with numeric-heavy responses.\n",
      "2025-05-19 15:27:10,752 - INFO - Cleaned dataset saved to ./cleaned_mental_health_dataset.csv.\n",
      "2025-05-19 15:27:10,752 - INFO - Sample of cleaned dataset:\n",
      "2025-05-19 15:27:10,758 - INFO -                                                                                                                                   instruction                                                                                                                                                                                                                                                                                                                                                                                                                                                                                                                                                                                                                        response\n",
      "0           Provide a supportive response to the following mental health concern: i have trouble trusting people because of past experiences.  overwhelm can be exhausting, and its understandable that you feel this way. try breaking tasks into smaller steps and setting realistic goals. prioritizing selfcare, even in small ways like taking short breaks or practicing mindfulness, can help reduce stress. its okay to ask for help when neededsupport from loved ones or colleagues can make a difference. you are doing your best, and thats enough. give yourself permission to rest and recharge. if the stress feels unmanageable, speaking with a professional could provide additional support. you are not alone in this, and things will improve with time.\n",
      "1         Provide a supportive response to the following mental health concern: ive been experiencing mood swings, and i dont understand why.                                    lack of sleep can have a big impact on your wellbeing, and im sorry youre struggling with this. establishing a bedtime routine, avoiding screens before bed, and practicing relaxation techniques like deep breathing might help. stress and anxiety can also affect sleep, so finding ways to manage stress during the day could be beneficial. if sleep issues persist, consulting a doctor might be helpful. you deserve rest and peace. be patient with yourself, and know that small changes can lead to improvement. youre not alone in this, and support is available if you need it.\n",
      "2         Provide a supportive response to the following mental health concern: i constantly feel overwhelmed with work and responsibilities.                                                            it sounds like youre being really hard on yourself, and im sorry you feel this way. selfworth isnt defined by achievements or external validation. you are valuable just as you are. try to challenge negative thoughts and replace them with kinder ones. surround yourself with people who uplift you and engage in activities that bring you joy. if these feelings persist, talking to a therapist might be helpful. you deserve selfcompassion and kindness. remember, you are enough, and your worth isnt based on what you doits simply in being who you are.\n",
      "3  Provide a supportive response to the following mental health concern: ive been feeling really down, and i dont know how to pick myself up.                                    lack of sleep can have a big impact on your wellbeing, and im sorry youre struggling with this. establishing a bedtime routine, avoiding screens before bed, and practicing relaxation techniques like deep breathing might help. stress and anxiety can also affect sleep, so finding ways to manage stress during the day could be beneficial. if sleep issues persist, consulting a doctor might be helpful. you deserve rest and peace. be patient with yourself, and know that small changes can lead to improvement. youre not alone in this, and support is available if you need it.\n",
      "4                Provide a supportive response to the following mental health concern: i feel stuck in life, like im not making any progress.  overwhelm can be exhausting, and its understandable that you feel this way. try breaking tasks into smaller steps and setting realistic goals. prioritizing selfcare, even in small ways like taking short breaks or practicing mindfulness, can help reduce stress. its okay to ask for help when neededsupport from loved ones or colleagues can make a difference. you are doing your best, and thats enough. give yourself permission to rest and recharge. if the stress feels unmanageable, speaking with a professional could provide additional support. you are not alone in this, and things will improve with time.\n"
     ]
    }
   ],
   "source": [
    "main()"
   ]
  }
 ],
 "metadata": {
  "kernelspec": {
   "display_name": "condaEnv",
   "language": "python",
   "name": "python3"
  },
  "language_info": {
   "codemirror_mode": {
    "name": "ipython",
    "version": 3
   },
   "file_extension": ".py",
   "mimetype": "text/x-python",
   "name": "python",
   "nbconvert_exporter": "python",
   "pygments_lexer": "ipython3",
   "version": "3.12.3"
  }
 },
 "nbformat": 4,
 "nbformat_minor": 5
}
