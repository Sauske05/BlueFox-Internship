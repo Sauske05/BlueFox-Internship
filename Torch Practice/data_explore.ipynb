{
 "cells": [
  {
   "cell_type": "code",
   "execution_count": 4,
   "id": "ac38d448",
   "metadata": {},
   "outputs": [
    {
     "data": {
      "text/html": [
       "<div>\n",
       "<style scoped>\n",
       "    .dataframe tbody tr th:only-of-type {\n",
       "        vertical-align: middle;\n",
       "    }\n",
       "\n",
       "    .dataframe tbody tr th {\n",
       "        vertical-align: top;\n",
       "    }\n",
       "\n",
       "    .dataframe thead th {\n",
       "        text-align: right;\n",
       "    }\n",
       "</style>\n",
       "<table border=\"1\" class=\"dataframe\">\n",
       "  <thead>\n",
       "    <tr style=\"text-align: right;\">\n",
       "      <th></th>\n",
       "      <th>a</th>\n",
       "      <th>b</th>\n",
       "    </tr>\n",
       "  </thead>\n",
       "  <tbody>\n",
       "    <tr>\n",
       "      <th>0</th>\n",
       "      <td>1</td>\n",
       "      <td>2</td>\n",
       "    </tr>\n",
       "    <tr>\n",
       "      <th>1</th>\n",
       "      <td>2</td>\n",
       "      <td>3</td>\n",
       "    </tr>\n",
       "    <tr>\n",
       "      <th>2</th>\n",
       "      <td>3</td>\n",
       "      <td>4</td>\n",
       "    </tr>\n",
       "    <tr>\n",
       "      <th>3</th>\n",
       "      <td>2</td>\n",
       "      <td>5</td>\n",
       "    </tr>\n",
       "    <tr>\n",
       "      <th>4</th>\n",
       "      <td>3</td>\n",
       "      <td>6</td>\n",
       "    </tr>\n",
       "  </tbody>\n",
       "</table>\n",
       "</div>"
      ],
      "text/plain": [
       "   a  b\n",
       "0  1  2\n",
       "1  2  3\n",
       "2  3  4\n",
       "3  2  5\n",
       "4  3  6"
      ]
     },
     "execution_count": 4,
     "metadata": {},
     "output_type": "execute_result"
    }
   ],
   "source": [
    "import pandas as pd\n",
    "\n",
    "a = [1,2,3,2,3]\n",
    "b = [2,3,4,5,6]\n",
    "map = {\n",
    "\n",
    "    'a' : a, \n",
    "    'b' : b\n",
    "}\n",
    "df = pd.DataFrame(map)\n",
    "df.head()"
   ]
  },
  {
   "cell_type": "code",
   "execution_count": 7,
   "id": "9a4b7bb7",
   "metadata": {},
   "outputs": [
    {
     "data": {
      "text/plain": [
       "a\n",
       "1    2\n",
       "2    5\n",
       "3    6\n",
       "Name: b, dtype: int64"
      ]
     },
     "execution_count": 7,
     "metadata": {},
     "output_type": "execute_result"
    }
   ],
   "source": [
    "df.groupby(df.a)['b'].max()"
   ]
  },
  {
   "cell_type": "code",
   "execution_count": 8,
   "id": "2c7ebd99",
   "metadata": {},
   "outputs": [
    {
     "data": {
      "text/html": [
       "<div>\n",
       "<style scoped>\n",
       "    .dataframe tbody tr th:only-of-type {\n",
       "        vertical-align: middle;\n",
       "    }\n",
       "\n",
       "    .dataframe tbody tr th {\n",
       "        vertical-align: top;\n",
       "    }\n",
       "\n",
       "    .dataframe thead th {\n",
       "        text-align: right;\n",
       "    }\n",
       "</style>\n",
       "<table border=\"1\" class=\"dataframe\">\n",
       "  <thead>\n",
       "    <tr style=\"text-align: right;\">\n",
       "      <th></th>\n",
       "      <th>Context</th>\n",
       "      <th>Response</th>\n",
       "    </tr>\n",
       "  </thead>\n",
       "  <tbody>\n",
       "    <tr>\n",
       "      <th>0</th>\n",
       "      <td>I have trouble trusting people because of past...</td>\n",
       "      <td>Overwhelm can be exhausting, and it's understa...</td>\n",
       "    </tr>\n",
       "    <tr>\n",
       "      <th>1</th>\n",
       "      <td>I've been experiencing mood swings, and I don'...</td>\n",
       "      <td>Lack of sleep can have a big impact on your we...</td>\n",
       "    </tr>\n",
       "    <tr>\n",
       "      <th>2</th>\n",
       "      <td>I constantly feel overwhelmed with work and re...</td>\n",
       "      <td>It sounds like you’re being really hard on you...</td>\n",
       "    </tr>\n",
       "    <tr>\n",
       "      <th>3</th>\n",
       "      <td>I've been feeling really down, and I don’t kno...</td>\n",
       "      <td>Lack of sleep can have a big impact on your we...</td>\n",
       "    </tr>\n",
       "    <tr>\n",
       "      <th>4</th>\n",
       "      <td>I feel stuck in life, like I'm not making any ...</td>\n",
       "      <td>Overwhelm can be exhausting, and it's understa...</td>\n",
       "    </tr>\n",
       "  </tbody>\n",
       "</table>\n",
       "</div>"
      ],
      "text/plain": [
       "                                             Context  \\\n",
       "0  I have trouble trusting people because of past...   \n",
       "1  I've been experiencing mood swings, and I don'...   \n",
       "2  I constantly feel overwhelmed with work and re...   \n",
       "3  I've been feeling really down, and I don’t kno...   \n",
       "4  I feel stuck in life, like I'm not making any ...   \n",
       "\n",
       "                                            Response  \n",
       "0  Overwhelm can be exhausting, and it's understa...  \n",
       "1  Lack of sleep can have a big impact on your we...  \n",
       "2  It sounds like you’re being really hard on you...  \n",
       "3  Lack of sleep can have a big impact on your we...  \n",
       "4  Overwhelm can be exhausting, and it's understa...  "
      ]
     },
     "execution_count": 8,
     "metadata": {},
     "output_type": "execute_result"
    }
   ],
   "source": [
    "df = pd.read_csv('./mental_health_dataset.csv')\n",
    "df.head()"
   ]
  },
  {
   "cell_type": "code",
   "execution_count": null,
   "id": "099871c4",
   "metadata": {},
   "outputs": [
    {
     "data": {
      "text/plain": [
       "'Less than 10'"
      ]
     },
     "execution_count": 29,
     "metadata": {},
     "output_type": "execute_result"
    }
   ],
   "source": [
    "'Greater than 10' if len(df.iloc[0].Context.split(' ')) > 10 else 'Less than 10'"
   ]
  },
  {
   "cell_type": "code",
   "execution_count": null,
   "id": "7ab2436d",
   "metadata": {},
   "outputs": [],
   "source": [
    "\n",
    "def row_with_min_words(x, threshold):\n",
    "    return True if len(x.split(' ')) > threshold else False\n",
    "\n",
    "#df.drop(columns=['is_valid'])\n",
    "df['context_is_valid']= df['Context'].map(lambda x : row_with_min_words(x, 5))\n",
    "df['response_is_valid']= df['Response'].map(lambda x : row_with_min_words(x, 50))"
   ]
  },
  {
   "cell_type": "code",
   "execution_count": 50,
   "id": "b1cf44f9",
   "metadata": {},
   "outputs": [
    {
     "name": "stdout",
     "output_type": "stream",
     "text": [
      "context_is_valid\n",
      "True    3000\n",
      "Name: count, dtype: int64\n"
     ]
    },
    {
     "data": {
      "text/plain": [
       "response_is_valid\n",
       "True    3000\n",
       "Name: count, dtype: int64"
      ]
     },
     "execution_count": 50,
     "metadata": {},
     "output_type": "execute_result"
    }
   ],
   "source": [
    "print(df['context_is_valid'].value_counts())\n",
    "df['response_is_valid'].value_counts()"
   ]
  },
  {
   "cell_type": "code",
   "execution_count": 54,
   "id": "ece100ce",
   "metadata": {},
   "outputs": [
    {
     "data": {
      "text/plain": [
       "Response\n",
       "False    3000\n",
       "Name: count, dtype: int64"
      ]
     },
     "execution_count": 54,
     "metadata": {},
     "output_type": "execute_result"
    }
   ],
   "source": [
    "df['Response'].str.contains(r'\\d+', regex=True).value_counts()"
   ]
  },
  {
   "cell_type": "code",
   "execution_count": null,
   "id": "50bd42dd",
   "metadata": {},
   "outputs": [],
   "source": []
  }
 ],
 "metadata": {
  "kernelspec": {
   "display_name": "condaEnv",
   "language": "python",
   "name": "python3"
  },
  "language_info": {
   "codemirror_mode": {
    "name": "ipython",
    "version": 3
   },
   "file_extension": ".py",
   "mimetype": "text/x-python",
   "name": "python",
   "nbconvert_exporter": "python",
   "pygments_lexer": "ipython3",
   "version": "3.12.3"
  }
 },
 "nbformat": 4,
 "nbformat_minor": 5
}
