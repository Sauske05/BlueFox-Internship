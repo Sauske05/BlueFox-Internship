{
 "cells": [
  {
   "cell_type": "code",
   "execution_count": 1,
   "id": "16c364d5-b7ea-449b-8157-d5e0be0beb7b",
   "metadata": {},
   "outputs": [
    {
     "data": {
      "text/html": [
       "<div>\n",
       "<style scoped>\n",
       "    .dataframe tbody tr th:only-of-type {\n",
       "        vertical-align: middle;\n",
       "    }\n",
       "\n",
       "    .dataframe tbody tr th {\n",
       "        vertical-align: top;\n",
       "    }\n",
       "\n",
       "    .dataframe thead th {\n",
       "        text-align: right;\n",
       "    }\n",
       "</style>\n",
       "<table border=\"1\" class=\"dataframe\">\n",
       "  <thead>\n",
       "    <tr style=\"text-align: right;\">\n",
       "      <th></th>\n",
       "      <th>show_id</th>\n",
       "      <th>type</th>\n",
       "      <th>title</th>\n",
       "      <th>director</th>\n",
       "      <th>cast</th>\n",
       "      <th>country</th>\n",
       "      <th>date_added</th>\n",
       "      <th>release_year</th>\n",
       "      <th>rating</th>\n",
       "      <th>duration</th>\n",
       "      <th>listed_in</th>\n",
       "      <th>description</th>\n",
       "    </tr>\n",
       "  </thead>\n",
       "  <tbody>\n",
       "    <tr>\n",
       "      <th>0</th>\n",
       "      <td>s1</td>\n",
       "      <td>Movie</td>\n",
       "      <td>Dick Johnson Is Dead</td>\n",
       "      <td>Kirsten Johnson</td>\n",
       "      <td>NaN</td>\n",
       "      <td>United States</td>\n",
       "      <td>September 25, 2021</td>\n",
       "      <td>2020</td>\n",
       "      <td>PG-13</td>\n",
       "      <td>90 min</td>\n",
       "      <td>Documentaries</td>\n",
       "      <td>As her father nears the end of his life, filmm...</td>\n",
       "    </tr>\n",
       "    <tr>\n",
       "      <th>1</th>\n",
       "      <td>s2</td>\n",
       "      <td>TV Show</td>\n",
       "      <td>Blood &amp; Water</td>\n",
       "      <td>NaN</td>\n",
       "      <td>Ama Qamata, Khosi Ngema, Gail Mabalane, Thaban...</td>\n",
       "      <td>South Africa</td>\n",
       "      <td>September 24, 2021</td>\n",
       "      <td>2021</td>\n",
       "      <td>TV-MA</td>\n",
       "      <td>2 Seasons</td>\n",
       "      <td>International TV Shows, TV Dramas, TV Mysteries</td>\n",
       "      <td>After crossing paths at a party, a Cape Town t...</td>\n",
       "    </tr>\n",
       "    <tr>\n",
       "      <th>2</th>\n",
       "      <td>s3</td>\n",
       "      <td>TV Show</td>\n",
       "      <td>Ganglands</td>\n",
       "      <td>Julien Leclercq</td>\n",
       "      <td>Sami Bouajila, Tracy Gotoas, Samuel Jouy, Nabi...</td>\n",
       "      <td>NaN</td>\n",
       "      <td>September 24, 2021</td>\n",
       "      <td>2021</td>\n",
       "      <td>TV-MA</td>\n",
       "      <td>1 Season</td>\n",
       "      <td>Crime TV Shows, International TV Shows, TV Act...</td>\n",
       "      <td>To protect his family from a powerful drug lor...</td>\n",
       "    </tr>\n",
       "    <tr>\n",
       "      <th>3</th>\n",
       "      <td>s4</td>\n",
       "      <td>TV Show</td>\n",
       "      <td>Jailbirds New Orleans</td>\n",
       "      <td>NaN</td>\n",
       "      <td>NaN</td>\n",
       "      <td>NaN</td>\n",
       "      <td>September 24, 2021</td>\n",
       "      <td>2021</td>\n",
       "      <td>TV-MA</td>\n",
       "      <td>1 Season</td>\n",
       "      <td>Docuseries, Reality TV</td>\n",
       "      <td>Feuds, flirtations and toilet talk go down amo...</td>\n",
       "    </tr>\n",
       "    <tr>\n",
       "      <th>4</th>\n",
       "      <td>s5</td>\n",
       "      <td>TV Show</td>\n",
       "      <td>Kota Factory</td>\n",
       "      <td>NaN</td>\n",
       "      <td>Mayur More, Jitendra Kumar, Ranjan Raj, Alam K...</td>\n",
       "      <td>India</td>\n",
       "      <td>September 24, 2021</td>\n",
       "      <td>2021</td>\n",
       "      <td>TV-MA</td>\n",
       "      <td>2 Seasons</td>\n",
       "      <td>International TV Shows, Romantic TV Shows, TV ...</td>\n",
       "      <td>In a city of coaching centers known to train I...</td>\n",
       "    </tr>\n",
       "  </tbody>\n",
       "</table>\n",
       "</div>"
      ],
      "text/plain": [
       "  show_id     type                  title         director  \\\n",
       "0      s1    Movie   Dick Johnson Is Dead  Kirsten Johnson   \n",
       "1      s2  TV Show          Blood & Water              NaN   \n",
       "2      s3  TV Show              Ganglands  Julien Leclercq   \n",
       "3      s4  TV Show  Jailbirds New Orleans              NaN   \n",
       "4      s5  TV Show           Kota Factory              NaN   \n",
       "\n",
       "                                                cast        country  \\\n",
       "0                                                NaN  United States   \n",
       "1  Ama Qamata, Khosi Ngema, Gail Mabalane, Thaban...   South Africa   \n",
       "2  Sami Bouajila, Tracy Gotoas, Samuel Jouy, Nabi...            NaN   \n",
       "3                                                NaN            NaN   \n",
       "4  Mayur More, Jitendra Kumar, Ranjan Raj, Alam K...          India   \n",
       "\n",
       "           date_added  release_year rating   duration  \\\n",
       "0  September 25, 2021          2020  PG-13     90 min   \n",
       "1  September 24, 2021          2021  TV-MA  2 Seasons   \n",
       "2  September 24, 2021          2021  TV-MA   1 Season   \n",
       "3  September 24, 2021          2021  TV-MA   1 Season   \n",
       "4  September 24, 2021          2021  TV-MA  2 Seasons   \n",
       "\n",
       "                                           listed_in  \\\n",
       "0                                      Documentaries   \n",
       "1    International TV Shows, TV Dramas, TV Mysteries   \n",
       "2  Crime TV Shows, International TV Shows, TV Act...   \n",
       "3                             Docuseries, Reality TV   \n",
       "4  International TV Shows, Romantic TV Shows, TV ...   \n",
       "\n",
       "                                         description  \n",
       "0  As her father nears the end of his life, filmm...  \n",
       "1  After crossing paths at a party, a Cape Town t...  \n",
       "2  To protect his family from a powerful drug lor...  \n",
       "3  Feuds, flirtations and toilet talk go down amo...  \n",
       "4  In a city of coaching centers known to train I...  "
      ]
     },
     "execution_count": 1,
     "metadata": {},
     "output_type": "execute_result"
    }
   ],
   "source": [
    "import pandas as pd\n",
    "df = pd.read_csv('netflix_titles.csv')\n",
    "df.head()"
   ]
  },
  {
   "cell_type": "code",
   "execution_count": 2,
   "id": "95306eea-0974-4d2d-8335-2b37e17b66a3",
   "metadata": {},
   "outputs": [
    {
     "data": {
      "text/plain": [
       "show_id            0\n",
       "type               0\n",
       "title              0\n",
       "director        2634\n",
       "cast             825\n",
       "country          831\n",
       "date_added        10\n",
       "release_year       0\n",
       "rating             4\n",
       "duration           3\n",
       "listed_in          0\n",
       "description        0\n",
       "dtype: int64"
      ]
     },
     "execution_count": 2,
     "metadata": {},
     "output_type": "execute_result"
    }
   ],
   "source": [
    "df.isnull().sum()"
   ]
  },
  {
   "cell_type": "code",
   "execution_count": 3,
   "id": "bb3e6938-4477-46d9-9d8b-a190078dbf38",
   "metadata": {},
   "outputs": [
    {
     "name": "stdout",
     "output_type": "stream",
     "text": [
      "                   title                                  combined_features\n",
      "0   Dick Johnson Is Dead                               Documentaries, Movie\n",
      "1          Blood & Water  International TV Shows, TV Dramas, TV Mysterie...\n",
      "2              Ganglands  Crime TV Shows, International TV Shows, TV Act...\n",
      "3  Jailbirds New Orleans                    Docuseries, Reality TV, TV Show\n",
      "4           Kota Factory  International TV Shows, Romantic TV Shows, TV ...\n"
     ]
    }
   ],
   "source": [
    "'''For recommendation system we can select column such as type and genre (listend_in ).\n",
    "We can use these columns to create a new column that is the combination of both type and genre. This approach is called feature concatenation.\n",
    "''' \n",
    "df['combined_features'] = df['listed_in'] + ', ' + df['type']\n",
    "print(df[['title', 'combined_features']].head())"
   ]
  },
  {
   "cell_type": "code",
   "execution_count": 4,
   "id": "8956b8e3-a63a-4e2a-92bc-fc459d6d0d2b",
   "metadata": {},
   "outputs": [
    {
     "name": "stderr",
     "output_type": "stream",
     "text": [
      "C:\\Arun\\anaconda3\\Lib\\site-packages\\sklearn\\feature_extraction\\text.py:528: UserWarning: The parameter 'token_pattern' will not be used since 'tokenizer' is not None'\n",
      "  warnings.warn(\n"
     ]
    }
   ],
   "source": [
    "#using count vectorizer to convert the combined feature into vectorized form.\n",
    "from sklearn.feature_extraction.text import CountVectorizer\n",
    "vectorizer = CountVectorizer(tokenizer=lambda x: x.split(', '))\n",
    "genre_matrix = vectorizer.fit_transform(df['combined_features'])"
   ]
  },
  {
   "cell_type": "code",
   "execution_count": 5,
   "id": "d26f9fdd-dbc5-4b10-8bc3-9c1854179023",
   "metadata": {},
   "outputs": [
    {
     "data": {
      "text/plain": [
       "{'documentaries': 10,\n",
       " 'movie': 21,\n",
       " 'international tv shows': 17,\n",
       " 'tv dramas': 37,\n",
       " 'tv mysteries': 39,\n",
       " 'tv show': 41,\n",
       " 'crime tv shows': 8,\n",
       " 'tv action & adventure': 35,\n",
       " 'docuseries': 11,\n",
       " 'reality tv': 24,\n",
       " 'romantic tv shows': 26,\n",
       " 'tv comedies': 36,\n",
       " 'tv horror': 38,\n",
       " 'children & family movies': 4,\n",
       " 'dramas': 12,\n",
       " 'independent movies': 15,\n",
       " 'international movies': 16,\n",
       " 'british tv shows': 3,\n",
       " 'comedies': 7,\n",
       " 'spanish-language tv shows': 29,\n",
       " 'thrillers': 34,\n",
       " 'romantic movies': 25,\n",
       " 'music & musicals': 23,\n",
       " 'horror movies': 14,\n",
       " 'sci-fi & fantasy': 27,\n",
       " 'tv thrillers': 43,\n",
       " \"kids' tv\": 18,\n",
       " 'action & adventure': 0,\n",
       " 'tv sci-fi & fantasy': 40,\n",
       " 'classic movies': 6,\n",
       " 'anime features': 1,\n",
       " 'sports movies': 30,\n",
       " 'anime series': 2,\n",
       " 'korean tv shows': 19,\n",
       " 'science & nature tv': 28,\n",
       " 'teen tv shows': 33,\n",
       " 'cult movies': 9,\n",
       " 'tv shows': 42,\n",
       " 'faith & spirituality': 13,\n",
       " 'lgbtq movies': 20,\n",
       " 'stand-up comedy': 31,\n",
       " 'movies': 22,\n",
       " 'stand-up comedy & talk shows': 32,\n",
       " 'classic & cult tv': 5}"
      ]
     },
     "execution_count": 5,
     "metadata": {},
     "output_type": "execute_result"
    }
   ],
   "source": [
    "vectorizer.vocabulary_"
   ]
  },
  {
   "cell_type": "code",
   "execution_count": 6,
   "id": "83d78777-e858-430a-8bb7-62235524da97",
   "metadata": {},
   "outputs": [
    {
     "data": {
      "text/plain": [
       "array(['action & adventure', 'anime features', 'anime series',\n",
       "       'british tv shows', 'children & family movies',\n",
       "       'classic & cult tv', 'classic movies', 'comedies',\n",
       "       'crime tv shows', 'cult movies', 'documentaries', 'docuseries',\n",
       "       'dramas', 'faith & spirituality', 'horror movies',\n",
       "       'independent movies', 'international movies',\n",
       "       'international tv shows', \"kids' tv\", 'korean tv shows',\n",
       "       'lgbtq movies', 'movie', 'movies', 'music & musicals',\n",
       "       'reality tv', 'romantic movies', 'romantic tv shows',\n",
       "       'sci-fi & fantasy', 'science & nature tv',\n",
       "       'spanish-language tv shows', 'sports movies', 'stand-up comedy',\n",
       "       'stand-up comedy & talk shows', 'teen tv shows', 'thrillers',\n",
       "       'tv action & adventure', 'tv comedies', 'tv dramas', 'tv horror',\n",
       "       'tv mysteries', 'tv sci-fi & fantasy', 'tv show', 'tv shows',\n",
       "       'tv thrillers'], dtype=object)"
      ]
     },
     "execution_count": 6,
     "metadata": {},
     "output_type": "execute_result"
    }
   ],
   "source": [
    "vectorizer.get_feature_names_out()"
   ]
  },
  {
   "cell_type": "code",
   "execution_count": 7,
   "id": "7315ce12-6529-4fca-93d1-b5403dc80989",
   "metadata": {},
   "outputs": [
    {
     "data": {
      "text/plain": [
       "array([0, 0, 0, 0, 0, 0, 0, 0, 0, 0, 1, 0, 0, 0, 0, 0, 0, 0, 0, 0, 0, 1,\n",
       "       0, 0, 0, 0, 0, 0, 0, 0, 0, 0, 0, 0, 0, 0, 0, 0, 0, 0, 0, 0, 0, 0],\n",
       "      dtype=int64)"
      ]
     },
     "execution_count": 7,
     "metadata": {},
     "output_type": "execute_result"
    }
   ],
   "source": [
    "#The words: \"Documentaries, Movie\" is converted into the array shown below.\n",
    "genre_matrix.toarray()[0]"
   ]
  },
  {
   "cell_type": "code",
   "execution_count": 8,
   "id": "5be55667-fee0-4f4b-af34-3ee9d78d2dc8",
   "metadata": {},
   "outputs": [
    {
     "data": {
      "text/plain": [
       "(8807, 8807)"
      ]
     },
     "execution_count": 8,
     "metadata": {},
     "output_type": "execute_result"
    }
   ],
   "source": [
    "from sklearn.metrics.pairwise import cosine_similarity\n",
    "\n",
    "# Compute the cosine similarity matrix\n",
    "cosine_sim = cosine_similarity(genre_matrix, genre_matrix)\n",
    "cosine_sim.shape\n"
   ]
  },
  {
   "cell_type": "code",
   "execution_count": 9,
   "id": "ad35c564-3dcf-47dc-b943-1e851f4aa4a3",
   "metadata": {},
   "outputs": [
    {
     "name": "stdout",
     "output_type": "stream",
     "text": [
      "title                  Dick Johnson Is Dead  Blood & Water  Ganglands  \\\n",
      "title                                                                   \n",
      "Dick Johnson Is Dead                    1.0       0.000000   0.000000   \n",
      "Blood & Water                           0.0       1.000000   0.500000   \n",
      "Ganglands                               0.0       0.500000   1.000000   \n",
      "Jailbirds New Orleans                   0.0       0.288675   0.288675   \n",
      "Kota Factory                            0.0       0.500000   0.500000   \n",
      "\n",
      "title                  Jailbirds New Orleans  Kota Factory  Midnight Mass  \\\n",
      "title                                                                       \n",
      "Dick Johnson Is Dead                0.000000      0.000000       0.000000   \n",
      "Blood & Water                       0.288675      0.500000       0.750000   \n",
      "Ganglands                           0.288675      0.500000       0.250000   \n",
      "Jailbirds New Orleans               1.000000      0.288675       0.288675   \n",
      "Kota Factory                        0.288675      1.000000       0.250000   \n",
      "\n",
      "title                  My Little Pony: A New Generation   Sankofa  \\\n",
      "title                                                               \n",
      "Dick Johnson Is Dead                                0.5  0.353553   \n",
      "Blood & Water                                       0.0  0.000000   \n",
      "Ganglands                                           0.0  0.000000   \n",
      "Jailbirds New Orleans                               0.0  0.000000   \n",
      "Kota Factory                                        0.0  0.000000   \n",
      "\n",
      "title                  The Great British Baking Show  The Starling  ...  \\\n",
      "title                                                               ...   \n",
      "Dick Johnson Is Dead                        0.000000      0.408248  ...   \n",
      "Blood & Water                               0.288675      0.000000  ...   \n",
      "Ganglands                                   0.288675      0.000000  ...   \n",
      "Jailbirds New Orleans                       0.666667      0.000000  ...   \n",
      "Kota Factory                                0.288675      0.000000  ...   \n",
      "\n",
      "title                  Zak Storm  Zed Plus     Zenda  Zindagi Gulzar Hai  \\\n",
      "title                                                                      \n",
      "Dick Johnson Is Dead    0.000000  0.353553  0.408248            0.000000   \n",
      "Blood & Water           0.353553  0.000000  0.000000            0.750000   \n",
      "Ganglands               0.353553  0.000000  0.000000            0.500000   \n",
      "Jailbirds New Orleans   0.408248  0.000000  0.000000            0.288675   \n",
      "Kota Factory            0.353553  0.000000  0.000000            0.750000   \n",
      "\n",
      "title                   Zinzana    Zodiac  Zombie Dumb  Zombieland      Zoom  \\\n",
      "title                                                                          \n",
      "Dick Johnson Is Dead   0.353553  0.353553     0.000000    0.408248  0.408248   \n",
      "Blood & Water          0.000000  0.000000     0.250000    0.000000  0.000000   \n",
      "Ganglands              0.000000  0.000000     0.250000    0.000000  0.000000   \n",
      "Jailbirds New Orleans  0.000000  0.000000     0.288675    0.000000  0.000000   \n",
      "Kota Factory           0.000000  0.000000     0.500000    0.000000  0.000000   \n",
      "\n",
      "title                    Zubaan  \n",
      "title                            \n",
      "Dick Johnson Is Dead   0.353553  \n",
      "Blood & Water          0.000000  \n",
      "Ganglands              0.000000  \n",
      "Jailbirds New Orleans  0.000000  \n",
      "Kota Factory           0.000000  \n",
      "\n",
      "[5 rows x 8807 columns]\n"
     ]
    }
   ],
   "source": [
    "'''Here cosime_sim is a 2d matrix. The index of dataframe has the same length as the cosine_sim \n",
    "i.e. 8807 and the columns have the same width as the cosine_sim matrix which is also 8807. '''\n",
    "cosine_sim_column = pd.DataFrame(cosine_sim, index=df['title'], columns=df['title'])\n",
    "print(cosine_sim_column.head())"
   ]
  },
  {
   "cell_type": "code",
   "execution_count": 10,
   "id": "49c86f78-4b5a-4027-9290-de965787a53d",
   "metadata": {},
   "outputs": [
    {
     "name": "stdin",
     "output_type": "stream",
     "text": [
      "Enter the movie name:  Ganglands\n"
     ]
    },
    {
     "name": "stdout",
     "output_type": "stream",
     "text": [
      "Movies recommended for Ganglands:\n",
      "11      Bangkok Breaking\n",
      "543           Undercover\n",
      "734                Lupin\n",
      "1223              Dealer\n",
      "2676               Fauda\n",
      "Name: title, dtype: object\n"
     ]
    }
   ],
   "source": [
    "'''The recommend_movies function recommends movies similar to a \n",
    "given movie based on cosine similarity scores between the movies. \n",
    "It returns the top 5 most similar movies.'''\n",
    "def recommend_movies(movie_title, cosine_sim_column, df, top_n=5):\n",
    "    try:\n",
    "        idx = df.index[df['title'] == movie_title].tolist()[0]\n",
    "        sim_scores = list(enumerate(cosine_sim_column.iloc[idx]))\n",
    "\n",
    "        # Sort the movies based on the similarity scores\n",
    "        sim_scores = sorted(sim_scores, key=lambda x: x[1], reverse=True)\n",
    "\n",
    "        # Get the scores of the top-n most similar movies\n",
    "        sim_scores = sim_scores[1:top_n + 1]\n",
    "\n",
    "        movie_indices = [i[0] for i in sim_scores]\n",
    "        return df['title'].iloc[movie_indices]\n",
    "    except IndexError:\n",
    "        print(\"Movie not found!\")\n",
    "name = input('Enter the movie name: ')\n",
    "recommended_movies = recommend_movies(name, cosine_sim_column, df)\n",
    "print(f\"Movies recommended for {name}:\")\n",
    "print(recommended_movies)\n"
   ]
  },
  {
   "cell_type": "code",
   "execution_count": 16,
   "id": "58e5aad9-8dd9-483c-a782-5ffa9580313e",
   "metadata": {},
   "outputs": [
    {
     "data": {
      "image/png": "[encoded data removed]",
      "text/plain": [
       "<Figure size 640x480 with 2 Axes>"
      ]
     },
     "metadata": {},
     "output_type": "display_data"
    }
   ],
   "source": [
    "import seaborn as sns\n",
    "import matplotlib.pyplot as plt\n",
    "sns.heatmap(genre_matrix.toarray()[:1], annot=True, cmap='coolwarm')\n",
    "plt.title('Cosine Similarity Heatmap')\n",
    "plt.show()"
   ]
  },
  {
   "cell_type": "code",
   "execution_count": null,
   "id": "b3463cc8-f82b-4524-a6e4-6f9cef70dd87",
   "metadata": {},
   "outputs": [],
   "source": []
  }
 ],
 "metadata": {
  "kernelspec": {
   "display_name": "Python 3 (ipykernel)",
   "language": "python",
   "name": "python3"
  },
  "language_info": {
   "codemirror_mode": {
    "name": "ipython",
    "version": 3
   },
   "file_extension": ".py",
   "mimetype": "text/x-python",
   "name": "python",
   "nbconvert_exporter": "python",
   "pygments_lexer": "ipython3",
   "version": "3.11.7"
  }
 },
 "nbformat": 4,
 "nbformat_minor": 5
}
