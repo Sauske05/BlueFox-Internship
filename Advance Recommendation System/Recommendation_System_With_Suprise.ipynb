{
 "cells": [
  {
   "cell_type": "code",
   "execution_count": 1,
   "id": "669a15fb-80e9-4b19-be36-ce84f5bbb934",
   "metadata": {},
   "outputs": [],
   "source": [
    "#pip list"
   ]
  },
  {
   "cell_type": "code",
   "execution_count": 2,
   "id": "b313d33a-78c2-4d6d-88a3-7ba196aff959",
   "metadata": {},
   "outputs": [
    {
     "name": "stdout",
     "output_type": "stream",
     "text": [
      "(7813737, 3)\n",
      "   user_id  anime_id  rating\n",
      "0        1        20      -1\n",
      "1        1        24      -1\n",
      "2        1        79      -1\n",
      "3        1       226      -1\n",
      "4        1       241      -1\n"
     ]
    }
   ],
   "source": [
    "import pandas as pd\n",
    "rating_df = pd.read_csv('rating.csv')\n",
    "print(rating_df.shape)\n",
    "print(rating_df.head())"
   ]
  },
  {
   "cell_type": "code",
   "execution_count": 3,
   "id": "00ba034f-af4c-4e79-8ce3-9dd2f85ad7c2",
   "metadata": {},
   "outputs": [
    {
     "data": {
      "text/plain": [
       "array([0, 5, 4, 3, 1, 2], dtype=int64)"
      ]
     },
     "execution_count": 3,
     "metadata": {},
     "output_type": "execute_result"
    }
   ],
   "source": [
    "#The data is too large. So, some users are removed to create a more simpler and easier to compute data.\n",
    "#rating_df = rating_df[rating_df['user_id']]\n",
    "#Normalizing the range of rating.\n",
    "rating_df['rating'] = rating_df['rating'].apply(lambda x: 0 if x == -1 else x // 2)\n",
    "rating_df['rating'].unique()\n",
    "#rating_df = rating_df.reset_index()"
   ]
  },
  {
   "cell_type": "code",
   "execution_count": 4,
   "id": "81bbec3f-2afc-407e-8015-ac782632d3fe",
   "metadata": {},
   "outputs": [
    {
     "data": {
      "text/plain": [
       "(11200,)"
      ]
     },
     "execution_count": 4,
     "metadata": {},
     "output_type": "execute_result"
    }
   ],
   "source": [
    "#The rating data now has 5000 movies and 1000 users\n",
    "rating_df['anime_id'].unique().shape"
   ]
  },
  {
   "cell_type": "code",
   "execution_count": 5,
   "id": "193dafb8-6bc7-4731-8909-c6c33863ea9b",
   "metadata": {},
   "outputs": [],
   "source": [
    "import pandas as pd\n",
    "from surprise import SVD, Dataset, Reader\n",
    "from surprise.model_selection import train_test_split, cross_validate\n",
    "# Define the reader with the rating scale\n",
    "reader = Reader(rating_scale=(0, 5))\n",
    "\n",
    "data = Dataset.load_from_df(rating_df[['user_id', 'anime_id', 'rating']], reader)"
   ]
  },
  {
   "cell_type": "code",
   "execution_count": 6,
   "id": "5e0aa52d-845a-4b0c-a027-c14d26facf29",
   "metadata": {},
   "outputs": [
    {
     "name": "stdout",
     "output_type": "stream",
     "text": [
      "Evaluating RMSE, MAE of algorithm SVD on 5 split(s).\n",
      "\n",
      "                  Fold 1  Fold 2  Fold 3  Fold 4  Fold 5  Mean    Std     \n",
      "RMSE (testset)    0.9245  0.9246  0.9244  0.9245  0.9235  0.9243  0.0004  \n",
      "MAE (testset)     0.6220  0.6220  0.6222  0.6217  0.6215  0.6219  0.0002  \n",
      "Fit time          68.70   73.98   73.12   72.51   72.93   72.25   1.84    \n",
      "Test time         14.23   17.79   15.21   14.42   14.36   15.20   1.34    \n"
     ]
    },
    {
     "data": {
      "text/plain": [
       "{'test_rmse': array([0.92450547, 0.92464905, 0.92441143, 0.92454017, 0.92352689]),\n",
       " 'test_mae': array([0.62201754, 0.62198109, 0.6221855 , 0.6217394 , 0.62150149]),\n",
       " 'fit_time': (68.7048921585083,\n",
       "  73.98269486427307,\n",
       "  73.12318539619446,\n",
       "  72.50614404678345,\n",
       "  72.93399596214294),\n",
       " 'test_time': (14.227971315383911,\n",
       "  17.785907983779907,\n",
       "  15.207601070404053,\n",
       "  14.422444105148315,\n",
       "  14.36286449432373)}"
      ]
     },
     "execution_count": 6,
     "metadata": {},
     "output_type": "execute_result"
    }
   ],
   "source": [
    "# Split the data into train and test sets\n",
    "trainset, testset = train_test_split(data, test_size=0.25)\n",
    "model = SVD()\n",
    "model.fit(trainset)\n",
    "predictions = model.test(testset)\n",
    "\n",
    "cross_validate(model, data, measures=['RMSE', 'MAE'], cv=5, verbose=True)"
   ]
  },
  {
   "cell_type": "code",
   "execution_count": 7,
   "id": "f9117ff0-b4b5-4fda-89e1-3ee1859f9fb1",
   "metadata": {},
   "outputs": [
    {
     "name": "stdout",
     "output_type": "stream",
     "text": [
      "The actual rating of user_id (101) and anime_id (20) is 5\n",
      "user: 101        item: 20         r_ui = None   est = 3.41   {'was_impossible': False}\n",
      "The predicted rating of user_id 101 and anime_id 20 is 3.414449526436156\n"
     ]
    }
   ],
   "source": [
    "'''\n",
    "The RMSE and MAE values are quite low, indicating that the SVD model is performing well on the dataset.\n",
    "Both RMSE and MAE have very low standard deviations, which means the model's performance is consistent across all the folds during cross-validation.\n",
    "'''\n",
    "#Testing a random data from dataframe\n",
    "test_rating  = rating_df[(rating_df['user_id'] == 101) & (rating_df['anime_id'] == 20)]['rating'].values[0]\n",
    "print(f'The actual rating of user_id (101) and anime_id (20) is {test_rating}')\n",
    "\n",
    "prediction = model.predict(101, 20)\n",
    "print(prediction)\n",
    "print(f'The predicted rating of user_id 101 and anime_id 20 is {prediction.est}')\n",
    "# From the random data testing as well we can conclude that the model is able to accurately predict the rating based on the movie id and user id."
   ]
  },
  {
   "cell_type": "markdown",
   "id": "83bae109-c4c0-4f4f-8471-43c8a99c45eb",
   "metadata": {},
   "source": [
    "Content Based Filtering "
   ]
  },
  {
   "cell_type": "code",
   "execution_count": 8,
   "id": "fb934b33-b47e-4e93-a035-39ab72e39a71",
   "metadata": {},
   "outputs": [
    {
     "data": {
      "text/html": [
       "<div>\n",
       "<style scoped>\n",
       "    .dataframe tbody tr th:only-of-type {\n",
       "        vertical-align: middle;\n",
       "    }\n",
       "\n",
       "    .dataframe tbody tr th {\n",
       "        vertical-align: top;\n",
       "    }\n",
       "\n",
       "    .dataframe thead th {\n",
       "        text-align: right;\n",
       "    }\n",
       "</style>\n",
       "<table border=\"1\" class=\"dataframe\">\n",
       "  <thead>\n",
       "    <tr style=\"text-align: right;\">\n",
       "      <th></th>\n",
       "      <th>anime_id</th>\n",
       "      <th>name</th>\n",
       "      <th>genre</th>\n",
       "      <th>type</th>\n",
       "      <th>episodes</th>\n",
       "      <th>rating</th>\n",
       "      <th>members</th>\n",
       "    </tr>\n",
       "  </thead>\n",
       "  <tbody>\n",
       "    <tr>\n",
       "      <th>0</th>\n",
       "      <td>32281</td>\n",
       "      <td>Kimi no Na wa.</td>\n",
       "      <td>Drama, Romance, School, Supernatural</td>\n",
       "      <td>Movie</td>\n",
       "      <td>1</td>\n",
       "      <td>9.37</td>\n",
       "      <td>200630</td>\n",
       "    </tr>\n",
       "    <tr>\n",
       "      <th>1</th>\n",
       "      <td>5114</td>\n",
       "      <td>Fullmetal Alchemist: Brotherhood</td>\n",
       "      <td>Action, Adventure, Drama, Fantasy, Magic, Mili...</td>\n",
       "      <td>TV</td>\n",
       "      <td>64</td>\n",
       "      <td>9.26</td>\n",
       "      <td>793665</td>\n",
       "    </tr>\n",
       "    <tr>\n",
       "      <th>2</th>\n",
       "      <td>28977</td>\n",
       "      <td>Gintama°</td>\n",
       "      <td>Action, Comedy, Historical, Parody, Samurai, S...</td>\n",
       "      <td>TV</td>\n",
       "      <td>51</td>\n",
       "      <td>9.25</td>\n",
       "      <td>114262</td>\n",
       "    </tr>\n",
       "    <tr>\n",
       "      <th>3</th>\n",
       "      <td>9253</td>\n",
       "      <td>Steins;Gate</td>\n",
       "      <td>Sci-Fi, Thriller</td>\n",
       "      <td>TV</td>\n",
       "      <td>24</td>\n",
       "      <td>9.17</td>\n",
       "      <td>673572</td>\n",
       "    </tr>\n",
       "    <tr>\n",
       "      <th>4</th>\n",
       "      <td>9969</td>\n",
       "      <td>Gintama&amp;#039;</td>\n",
       "      <td>Action, Comedy, Historical, Parody, Samurai, S...</td>\n",
       "      <td>TV</td>\n",
       "      <td>51</td>\n",
       "      <td>9.16</td>\n",
       "      <td>151266</td>\n",
       "    </tr>\n",
       "  </tbody>\n",
       "</table>\n",
       "</div>"
      ],
      "text/plain": [
       "   anime_id                              name  \\\n",
       "0     32281                    Kimi no Na wa.   \n",
       "1      5114  Fullmetal Alchemist: Brotherhood   \n",
       "2     28977                          Gintama°   \n",
       "3      9253                       Steins;Gate   \n",
       "4      9969                     Gintama&#039;   \n",
       "\n",
       "                                               genre   type episodes  rating  \\\n",
       "0               Drama, Romance, School, Supernatural  Movie        1    9.37   \n",
       "1  Action, Adventure, Drama, Fantasy, Magic, Mili...     TV       64    9.26   \n",
       "2  Action, Comedy, Historical, Parody, Samurai, S...     TV       51    9.25   \n",
       "3                                   Sci-Fi, Thriller     TV       24    9.17   \n",
       "4  Action, Comedy, Historical, Parody, Samurai, S...     TV       51    9.16   \n",
       "\n",
       "   members  \n",
       "0   200630  \n",
       "1   793665  \n",
       "2   114262  \n",
       "3   673572  \n",
       "4   151266  "
      ]
     },
     "execution_count": 8,
     "metadata": {},
     "output_type": "execute_result"
    }
   ],
   "source": [
    "import pandas as pd\n",
    "df = pd.read_csv('anime.csv')\n",
    "anime_ids_set = set(rating_df['anime_id'])\n",
    "df = df[df['anime_id'].apply(lambda x: x in anime_ids_set)]\n",
    "#df = df[df['anime_id'].apply(lambda x: )]\n",
    "df.head()"
   ]
  },
  {
   "cell_type": "code",
   "execution_count": 9,
   "id": "62be9b60-0708-4256-828c-50190d09ae8a",
   "metadata": {},
   "outputs": [
    {
     "name": "stdout",
     "output_type": "stream",
     "text": [
      "<class 'pandas.core.frame.DataFrame'>\n",
      "Index: 11197 entries, 0 to 12293\n",
      "Data columns (total 7 columns):\n",
      " #   Column    Non-Null Count  Dtype  \n",
      "---  ------    --------------  -----  \n",
      " 0   anime_id  11197 non-null  int64  \n",
      " 1   name      11197 non-null  object \n",
      " 2   genre     11165 non-null  object \n",
      " 3   type      11196 non-null  object \n",
      " 4   episodes  11197 non-null  object \n",
      " 5   rating    11194 non-null  float64\n",
      " 6   members   11197 non-null  int64  \n",
      "dtypes: float64(1), int64(2), object(4)\n",
      "memory usage: 699.8+ KB\n"
     ]
    }
   ],
   "source": [
    "df.info()"
   ]
  },
  {
   "cell_type": "code",
   "execution_count": 10,
   "id": "7e334e05-02a2-49c4-89d3-9f1249fbf2c1",
   "metadata": {},
   "outputs": [
    {
     "data": {
      "text/plain": [
       "anime_id     0\n",
       "name         0\n",
       "genre       32\n",
       "type         1\n",
       "episodes     0\n",
       "rating       3\n",
       "members      0\n",
       "dtype: int64"
      ]
     },
     "execution_count": 10,
     "metadata": {},
     "output_type": "execute_result"
    }
   ],
   "source": [
    "df.isnull().sum()"
   ]
  },
  {
   "cell_type": "code",
   "execution_count": 11,
   "id": "efa0f193-b6a1-4fca-b124-14964ad1fff8",
   "metadata": {},
   "outputs": [],
   "source": [
    "#Dropping the rows whose anime ratings are unknown.\n",
    "df = df.dropna(subset=['rating', 'genre'])"
   ]
  },
  {
   "cell_type": "code",
   "execution_count": 12,
   "id": "07233ca1-83a3-4997-aa38-b0cc1253544a",
   "metadata": {},
   "outputs": [
    {
     "data": {
      "text/plain": [
       "array(['Movie', 'TV', 'OVA', 'Special', 'Music', 'ONA'], dtype=object)"
      ]
     },
     "execution_count": 12,
     "metadata": {},
     "output_type": "execute_result"
    }
   ],
   "source": [
    "df.type.unique()"
   ]
  },
  {
   "cell_type": "code",
   "execution_count": 13,
   "id": "d4b3aa04-72e0-468d-a64e-5741dda52044",
   "metadata": {},
   "outputs": [],
   "source": [
    "import re\n",
    "def replace_comma_with_space(text):\n",
    "    text = re.sub(r',', '', text)\n",
    "    return text\n",
    "df['genre'] = df['genre'].apply(replace_comma_with_space)"
   ]
  },
  {
   "cell_type": "code",
   "execution_count": 14,
   "id": "674e9ac3-dc3f-483d-92b3-bf362e9f0eb4",
   "metadata": {},
   "outputs": [
    {
     "data": {
      "text/plain": [
       "0                        Drama Romance School Supernatural\n",
       "1        Action Adventure Drama Fantasy Magic Military ...\n",
       "2        Action Comedy Historical Parody Samurai Sci-Fi...\n",
       "3                                          Sci-Fi Thriller\n",
       "4        Action Comedy Historical Parody Samurai Sci-Fi...\n",
       "                               ...                        \n",
       "12289                                               Hentai\n",
       "12290                                               Hentai\n",
       "12291                                               Hentai\n",
       "12292                                               Hentai\n",
       "12293                                               Hentai\n",
       "Name: genre, Length: 11162, dtype: object"
      ]
     },
     "execution_count": 14,
     "metadata": {},
     "output_type": "execute_result"
    }
   ],
   "source": [
    "df.genre"
   ]
  },
  {
   "cell_type": "code",
   "execution_count": 15,
   "id": "5be4e63a-5632-4dd2-b41c-9eb0a3bed750",
   "metadata": {},
   "outputs": [],
   "source": [
    "df['combined_features'] = df['genre'] + ' ' + df['type']"
   ]
  },
  {
   "cell_type": "code",
   "execution_count": 16,
   "id": "09009800-66ef-4373-8ddb-6a416de923d0",
   "metadata": {},
   "outputs": [],
   "source": [
    "from sklearn.feature_extraction.text import TfidfVectorizer\n",
    "tfidf = TfidfVectorizer(stop_words='english')\n",
    "tfidf_matrix = tfidf.fit_transform(df['combined_features'])\n",
    "\n",
    "feature_names = tfidf.get_feature_names_out()\n",
    "\n",
    "content_matrix = tfidf_matrix.toarray()"
   ]
  },
  {
   "cell_type": "code",
   "execution_count": 17,
   "id": "e4e7b63e-2355-415b-b6a5-d87480cac366",
   "metadata": {},
   "outputs": [
    {
     "data": {
      "text/plain": [
       "array([[1.        , 0.13288214, 0.        , ..., 0.        , 0.        ,\n",
       "        0.24334889],\n",
       "       [0.13288214, 1.        , 0.22204906, ..., 0.        , 0.        ,\n",
       "        0.        ],\n",
       "       [0.        , 0.22204906, 1.        , ..., 0.        , 0.        ,\n",
       "        0.        ],\n",
       "       ...,\n",
       "       [0.        , 0.        , 0.        , ..., 1.        , 1.        ,\n",
       "        0.64264945],\n",
       "       [0.        , 0.        , 0.        , ..., 1.        , 1.        ,\n",
       "        0.64264945],\n",
       "       [0.24334889, 0.        , 0.        , ..., 0.64264945, 0.64264945,\n",
       "        1.        ]])"
      ]
     },
     "execution_count": 17,
     "metadata": {},
     "output_type": "execute_result"
    }
   ],
   "source": [
    "from sklearn.metrics.pairwise import cosine_similarity\n",
    "cosine_sim = cosine_similarity(tfidf_matrix, tfidf_matrix)\n",
    "cosine_sim"
   ]
  },
  {
   "cell_type": "code",
   "execution_count": null,
   "id": "908142d0-70bf-49c0-b4e0-f588f28a449f",
   "metadata": {},
   "outputs": [],
   "source": [
    "def main(prediction_model):\n",
    "    print(\"Hello User. Welcome to the Recommendation App for animes\")\n",
    "    print(\"Press 1 if you want to see a predicted rating of the anime you will be watching\")\n",
    "    print(\"Press 2 if you want us to recommend the top animes according to liked animes\")\n",
    "    print(\"Press 3 to exit\")\n",
    "    valid_number = False\n",
    "    while valid_number == False:\n",
    "        try:\n",
    "            number_input = int(input(\"Input number to contine: \"))\n",
    "            if (number_input > 0 and number_input < 4):\n",
    "                valid_number = True\n",
    "            else:\n",
    "                print(\"Enter a valid number!\")\n",
    "        except:\n",
    "            print(\"Input Error\")\n",
    "    if number_input == 1:\n",
    "        print('Disclaimer: Only the user registered can perform predictive analysis!')\n",
    "        try:\n",
    "            user_id = int(input('Enter your user_id: '))\n",
    "        \n",
    "            if user_id not in rating_df['user_id']:\n",
    "                print(\"User id doesn't exist\")\n",
    "                exit()\n",
    "            else:\n",
    "                anime_name_found = False\n",
    "                while anime_name_found == False:\n",
    "                    anime_name = input('Enter the anime name: ').lower()\n",
    "                    for index, name in enumerate(df['name']):\n",
    "                        if name.lower() == anime_name:\n",
    "                            anime_name_found= True\n",
    "                            anime_index = df['anime_id'][index]\n",
    "                            # print(anime_index)\n",
    "                            # print(user_id)\n",
    "                            prediction = prediction_model.predict(user_id, anime_index)\n",
    "                            print(f'The predicted rating of user_id {user_id} for \"{anime_name}\" is {prediction.est}')\n",
    "                    if anime_name_found == False:\n",
    "                        print(\"Anime name couldnt be found. Try again!\")\n",
    "        except:\n",
    "            print(\"User id doesn't exist\")\n",
    "            exit()\n",
    "    if number_input == 3:\n",
    "        print('Thank you for the visit!')\n",
    "        exit()\n",
    "    if number_input == 2:\n",
    "        #print(f'Anime List: {df['name']}')\n",
    "        valid_anime = False\n",
    "        while valid_anime == False:\n",
    "            anime_name = input('Enter the anime name: ').lower()\n",
    "            for i in df['name']:\n",
    "                if anime_name == i.lower():\n",
    "                    valid_anime = True\n",
    "            if valid_anime == False:\n",
    "                print('Entered Anime not in the list. Try again!')\n",
    "        try:\n",
    "            anime_index = df[df['name'].str.lower() == anime_name].index[0]\n",
    "        except IndexError:\n",
    "            print(\"Anime not found!\")\n",
    "            exit()\n",
    "\n",
    "        similarity_scores = list(enumerate(cosine_sim[anime_index]))\n",
    "\n",
    "        sorted_similar_animes = sorted(similarity_scores, key=lambda x: x[1], reverse=True)[1:]\n",
    "\n",
    "        top_5_animes = sorted_similar_animes[:5]\n",
    "        print(\"Top 5 similar animes to\", anime_name, \"are:\")\n",
    "        for i in top_5_animes:\n",
    "            print(df['name'].iloc[i[0]])\n",
    "        \n",
    "            \n",
    "            \n",
    "        "
   ]
  },
  {
   "cell_type": "code",
   "execution_count": null,
   "id": "3e5a05f3-5803-4af1-b67b-2e7e83e18eef",
   "metadata": {},
   "outputs": [],
   "source": [
    "main(model)"
   ]
  },
  {
   "cell_type": "code",
   "execution_count": null,
   "id": "2cf82efb-0d7b-457a-8ddd-21c6faadc8b4",
   "metadata": {},
   "outputs": [],
   "source": []
  }
 ],
 "metadata": {
  "kernelspec": {
   "display_name": "condaEnv",
   "language": "python",
   "name": "condaenv"
  },
  "language_info": {
   "codemirror_mode": {
    "name": "ipython",
    "version": 3
   },
   "file_extension": ".py",
   "mimetype": "text/x-python",
   "name": "python",
   "nbconvert_exporter": "python",
   "pygments_lexer": "ipython3",
   "version": "3.12.5"
  }
 },
 "nbformat": 4,
 "nbformat_minor": 5
}
