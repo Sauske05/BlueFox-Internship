{
 "cells": [
  {
   "cell_type": "code",
   "execution_count": 1,
   "id": "5ebde6d9-74b9-45c2-8414-054274fe948a",
   "metadata": {},
   "outputs": [
    {
     "name": "stdout",
     "output_type": "stream",
     "text": [
      "(7813737, 3)\n",
      "   user_id  anime_id  rating\n",
      "0        1        20      -1\n",
      "1        1        24      -1\n",
      "2        1        79      -1\n",
      "3        1       226      -1\n",
      "4        1       241      -1\n"
     ]
    }
   ],
   "source": [
    "import pandas as pd\n",
    "rating_df = pd.read_csv('rating.csv')\n",
    "print(rating_df.shape)\n",
    "print(rating_df.head())"
   ]
  },
  {
   "cell_type": "code",
   "execution_count": 2,
   "id": "18bcc4fa-c545-4d6d-81db-68aa6b8d4d24",
   "metadata": {},
   "outputs": [
    {
     "data": {
      "text/plain": [
       "array([0, 5, 4, 3, 1, 2], dtype=int64)"
      ]
     },
     "execution_count": 2,
     "metadata": {},
     "output_type": "execute_result"
    }
   ],
   "source": [
    "#The data is too large. So, some users are removed to create a more simpler and easier to compute data.\n",
    "rating_df = rating_df[rating_df['user_id'] <= 1000]\n",
    "#Normalizing the range of rating.\n",
    "rating_df['rating'] = rating_df['rating'].apply(lambda x: 0 if x == -1 else x // 2)\n",
    "rating_df['rating'].unique()\n",
    "#rating_df = rating_df.reset_index()"
   ]
  },
  {
   "cell_type": "code",
   "execution_count": 3,
   "id": "5d81a2ce-a361-4cad-9d1d-08b5e63d9b56",
   "metadata": {},
   "outputs": [
    {
     "data": {
      "text/plain": [
       "(5143,)"
      ]
     },
     "execution_count": 3,
     "metadata": {},
     "output_type": "execute_result"
    }
   ],
   "source": [
    "#The rating data now has 5000 movies and 1000 users\n",
    "rating_df['anime_id'].unique().shape"
   ]
  },
  {
   "cell_type": "code",
   "execution_count": 4,
   "id": "d9cd7276-8977-48ec-aeb4-43bdfdd9d3ee",
   "metadata": {},
   "outputs": [
    {
     "data": {
      "text/html": [
       "<div>\n",
       "<style scoped>\n",
       "    .dataframe tbody tr th:only-of-type {\n",
       "        vertical-align: middle;\n",
       "    }\n",
       "\n",
       "    .dataframe tbody tr th {\n",
       "        vertical-align: top;\n",
       "    }\n",
       "\n",
       "    .dataframe thead th {\n",
       "        text-align: right;\n",
       "    }\n",
       "</style>\n",
       "<table border=\"1\" class=\"dataframe\">\n",
       "  <thead>\n",
       "    <tr style=\"text-align: right;\">\n",
       "      <th></th>\n",
       "      <th>user_id</th>\n",
       "      <th>anime_id</th>\n",
       "      <th>rating</th>\n",
       "    </tr>\n",
       "  </thead>\n",
       "  <tbody>\n",
       "    <tr>\n",
       "      <th>8278</th>\n",
       "      <td>101</td>\n",
       "      <td>20</td>\n",
       "      <td>5</td>\n",
       "    </tr>\n",
       "    <tr>\n",
       "      <th>8279</th>\n",
       "      <td>101</td>\n",
       "      <td>269</td>\n",
       "      <td>5</td>\n",
       "    </tr>\n",
       "  </tbody>\n",
       "</table>\n",
       "</div>"
      ],
      "text/plain": [
       "      user_id  anime_id  rating\n",
       "8278      101        20       5\n",
       "8279      101       269       5"
      ]
     },
     "execution_count": 4,
     "metadata": {},
     "output_type": "execute_result"
    }
   ],
   "source": [
    "rating_df[rating_df['user_id'] == 101]"
   ]
  },
  {
   "cell_type": "code",
   "execution_count": 5,
   "id": "08adb703-c308-48d5-b57d-9aaf4e224077",
   "metadata": {},
   "outputs": [
    {
     "data": {
      "text/plain": [
       "(96479, 3)"
      ]
     },
     "execution_count": 5,
     "metadata": {},
     "output_type": "execute_result"
    }
   ],
   "source": [
    "rating_df.shape"
   ]
  },
  {
   "cell_type": "code",
   "execution_count": 6,
   "id": "056bfeca-ea39-48cf-8a45-c5d373e26927",
   "metadata": {},
   "outputs": [
    {
     "data": {
      "text/plain": [
       "array([0, 5, 4, 3, 1, 2], dtype=int64)"
      ]
     },
     "execution_count": 6,
     "metadata": {},
     "output_type": "execute_result"
    }
   ],
   "source": [
    "rating_df['rating'].unique()"
   ]
  },
  {
   "cell_type": "code",
   "execution_count": 7,
   "id": "4e5f8888-dca3-45a5-b61f-6e595a6f2f7e",
   "metadata": {},
   "outputs": [
    {
     "data": {
      "text/plain": [
       "(5143,)"
      ]
     },
     "execution_count": 7,
     "metadata": {},
     "output_type": "execute_result"
    }
   ],
   "source": [
    "rating_df['anime_id'].unique().shape"
   ]
  },
  {
   "cell_type": "code",
   "execution_count": 8,
   "id": "60d01b55-896d-4d0d-955e-561c81c289cd",
   "metadata": {},
   "outputs": [],
   "source": [
    "import numpy as np\n",
    "# Create User-Item Matrix\n",
    "user_item_matrix = rating_df.pivot_table(index='user_id', columns='anime_id', values='rating').fillna(0).values\n",
    "\n",
    "# Apply SVD\n",
    "U, sigma, Vt = np.linalg.svd(user_item_matrix, full_matrices=False)\n",
    "\n",
    "# Convert Sigma to diagonal matrix\n",
    "sigma_diag = np.diag(sigma)\n",
    "\n",
    "# Reconstruct the matrix\n",
    "predicted_ratings = np.dot(np.dot(U, sigma_diag), Vt)"
   ]
  },
  {
   "cell_type": "code",
   "execution_count": 10,
   "id": "fa9e4990-df21-4429-9007-152f56dfc564",
   "metadata": {},
   "outputs": [
    {
     "name": "stdout",
     "output_type": "stream",
     "text": [
      "Shape of the user-movie matrix: (1000, 5143)\n"
     ]
    },
    {
     "data": {
      "text/plain": [
       "array([[ 1.00887181e-14, -5.41233725e-16,  3.52669283e-15, ...,\n",
       "        -2.60208521e-17, -3.00107161e-16,  2.40779618e-15],\n",
       "       [ 7.42461648e-15, -5.86336535e-15, -2.44110288e-14, ...,\n",
       "         2.95336672e-15,  3.99322502e-15,  5.71331177e-15],\n",
       "       [-1.65623808e-14, -6.82090560e-15, -4.43417005e-15, ...,\n",
       "        -5.54948882e-16, -4.13623129e-17,  3.98818348e-15],\n",
       "       ...,\n",
       "       [-2.63244287e-15,  1.10653674e-15, -2.99825269e-15, ...,\n",
       "         4.21646225e-16, -8.15753715e-16, -1.44849410e-16],\n",
       "       [-3.48852891e-15, -3.27602528e-15, -1.96457434e-15, ...,\n",
       "         2.02745806e-16, -7.11236625e-17, -1.78329573e-15],\n",
       "       [ 4.53716925e-15, -1.85170889e-15,  2.97743601e-15, ...,\n",
       "         2.74899461e-16,  8.61832307e-16, -5.66820896e-16]])"
      ]
     },
     "execution_count": 10,
     "metadata": {},
     "output_type": "execute_result"
    }
   ],
   "source": [
    "print(f'Shape of the user-movie matrix: {predicted_ratings.shape}')\n",
    "predicted_ratings"
   ]
  },
  {
   "cell_type": "code",
   "execution_count": 11,
   "id": "3c03c150-4374-4ea2-96fc-49c5e1527497",
   "metadata": {},
   "outputs": [
    {
     "name": "stdout",
     "output_type": "stream",
     "text": [
      "298\n",
      "1.2394599235854287e-15\n"
     ]
    }
   ],
   "source": [
    "'''The obtained data is a 2d matrix. It has user id and movie id as it rows and columns.\n",
    "We can use the matrix to predict a rating score of a movie for an given individual regardless of whether\n",
    "he/she has watched the movie or not. Here, we created mappings for user ids and anime ids to gain some insights about the \n",
    "predicted ratings generated via SVD.\n",
    "'''\n",
    "user_ids = rating_df['user_id'].unique()\n",
    "anime_ids = rating_df['anime_id'].unique()\n",
    "user_id_to_index = {user_id: idx for idx, user_id in enumerate(user_ids)}\n",
    "anime_id_to_index = {anime_id: idx for idx, anime_id in enumerate(anime_ids)}\n",
    "print(anime_id_to_index[269])\n",
    "#print(user_id_to_index)\n",
    "#print(anime_id_to_index)\n",
    "predicted_rating_example = predicted_ratings[ user_id_to_index[101],anime_id_to_index[269]]\n",
    "print(predicted_rating_example)"
   ]
  },
  {
   "cell_type": "code",
   "execution_count": 12,
   "id": "8c257b3a-9906-457a-8132-8c1567a70588",
   "metadata": {},
   "outputs": [
    {
     "data": {
      "text/html": [
       "<div>\n",
       "<style scoped>\n",
       "    .dataframe tbody tr th:only-of-type {\n",
       "        vertical-align: middle;\n",
       "    }\n",
       "\n",
       "    .dataframe tbody tr th {\n",
       "        vertical-align: top;\n",
       "    }\n",
       "\n",
       "    .dataframe thead th {\n",
       "        text-align: right;\n",
       "    }\n",
       "</style>\n",
       "<table border=\"1\" class=\"dataframe\">\n",
       "  <thead>\n",
       "    <tr style=\"text-align: right;\">\n",
       "      <th></th>\n",
       "      <th>anime_id</th>\n",
       "      <th>name</th>\n",
       "      <th>genre</th>\n",
       "      <th>type</th>\n",
       "      <th>episodes</th>\n",
       "      <th>rating</th>\n",
       "      <th>members</th>\n",
       "    </tr>\n",
       "  </thead>\n",
       "  <tbody>\n",
       "    <tr>\n",
       "      <th>0</th>\n",
       "      <td>32281</td>\n",
       "      <td>Kimi no Na wa.</td>\n",
       "      <td>Drama, Romance, School, Supernatural</td>\n",
       "      <td>Movie</td>\n",
       "      <td>1</td>\n",
       "      <td>9.37</td>\n",
       "      <td>200630</td>\n",
       "    </tr>\n",
       "    <tr>\n",
       "      <th>1</th>\n",
       "      <td>5114</td>\n",
       "      <td>Fullmetal Alchemist: Brotherhood</td>\n",
       "      <td>Action, Adventure, Drama, Fantasy, Magic, Mili...</td>\n",
       "      <td>TV</td>\n",
       "      <td>64</td>\n",
       "      <td>9.26</td>\n",
       "      <td>793665</td>\n",
       "    </tr>\n",
       "    <tr>\n",
       "      <th>2</th>\n",
       "      <td>28977</td>\n",
       "      <td>Gintama°</td>\n",
       "      <td>Action, Comedy, Historical, Parody, Samurai, S...</td>\n",
       "      <td>TV</td>\n",
       "      <td>51</td>\n",
       "      <td>9.25</td>\n",
       "      <td>114262</td>\n",
       "    </tr>\n",
       "    <tr>\n",
       "      <th>3</th>\n",
       "      <td>9253</td>\n",
       "      <td>Steins;Gate</td>\n",
       "      <td>Sci-Fi, Thriller</td>\n",
       "      <td>TV</td>\n",
       "      <td>24</td>\n",
       "      <td>9.17</td>\n",
       "      <td>673572</td>\n",
       "    </tr>\n",
       "    <tr>\n",
       "      <th>4</th>\n",
       "      <td>9969</td>\n",
       "      <td>Gintama&amp;#039;</td>\n",
       "      <td>Action, Comedy, Historical, Parody, Samurai, S...</td>\n",
       "      <td>TV</td>\n",
       "      <td>51</td>\n",
       "      <td>9.16</td>\n",
       "      <td>151266</td>\n",
       "    </tr>\n",
       "  </tbody>\n",
       "</table>\n",
       "</div>"
      ],
      "text/plain": [
       "   anime_id                              name  \\\n",
       "0     32281                    Kimi no Na wa.   \n",
       "1      5114  Fullmetal Alchemist: Brotherhood   \n",
       "2     28977                          Gintama°   \n",
       "3      9253                       Steins;Gate   \n",
       "4      9969                     Gintama&#039;   \n",
       "\n",
       "                                               genre   type episodes  rating  \\\n",
       "0               Drama, Romance, School, Supernatural  Movie        1    9.37   \n",
       "1  Action, Adventure, Drama, Fantasy, Magic, Mili...     TV       64    9.26   \n",
       "2  Action, Comedy, Historical, Parody, Samurai, S...     TV       51    9.25   \n",
       "3                                   Sci-Fi, Thriller     TV       24    9.17   \n",
       "4  Action, Comedy, Historical, Parody, Samurai, S...     TV       51    9.16   \n",
       "\n",
       "   members  \n",
       "0   200630  \n",
       "1   793665  \n",
       "2   114262  \n",
       "3   673572  \n",
       "4   151266  "
      ]
     },
     "execution_count": 12,
     "metadata": {},
     "output_type": "execute_result"
    }
   ],
   "source": [
    "import pandas as pd\n",
    "df = pd.read_csv('anime.csv')\n",
    "anime_ids_set = set(rating_df['anime_id'])\n",
    "df = df[df['anime_id'].apply(lambda x: x in anime_ids_set)]\n",
    "#df = df[df['anime_id'].apply(lambda x: )]\n",
    "df.head()"
   ]
  },
  {
   "cell_type": "code",
   "execution_count": 13,
   "id": "71cd1a4d-2ad2-4af2-83e8-3924671da2da",
   "metadata": {},
   "outputs": [
    {
     "name": "stdout",
     "output_type": "stream",
     "text": [
      "<class 'pandas.core.frame.DataFrame'>\n",
      "Index: 5143 entries, 0 to 12223\n",
      "Data columns (total 7 columns):\n",
      " #   Column    Non-Null Count  Dtype  \n",
      "---  ------    --------------  -----  \n",
      " 0   anime_id  5143 non-null   int64  \n",
      " 1   name      5143 non-null   object \n",
      " 2   genre     5143 non-null   object \n",
      " 3   type      5143 non-null   object \n",
      " 4   episodes  5143 non-null   object \n",
      " 5   rating    5143 non-null   float64\n",
      " 6   members   5143 non-null   int64  \n",
      "dtypes: float64(1), int64(2), object(4)\n",
      "memory usage: 321.4+ KB\n"
     ]
    }
   ],
   "source": [
    "df.info()"
   ]
  },
  {
   "cell_type": "code",
   "execution_count": 14,
   "id": "16074011-70b6-4a55-8278-046905362d70",
   "metadata": {},
   "outputs": [
    {
     "data": {
      "text/plain": [
       "anime_id    0\n",
       "name        0\n",
       "genre       0\n",
       "type        0\n",
       "episodes    0\n",
       "rating      0\n",
       "members     0\n",
       "dtype: int64"
      ]
     },
     "execution_count": 14,
     "metadata": {},
     "output_type": "execute_result"
    }
   ],
   "source": [
    "df.isnull().sum()"
   ]
  },
  {
   "cell_type": "code",
   "execution_count": 15,
   "id": "a826694c-c297-4efe-878c-6f807d25611c",
   "metadata": {},
   "outputs": [],
   "source": [
    "#Dropping the rows whose anime ratings are unknown.\n",
    "df = df.dropna(subset=['rating', 'genre'])"
   ]
  },
  {
   "cell_type": "code",
   "execution_count": 16,
   "id": "5f4f3680-c990-4b1a-9ae3-66b6377129bb",
   "metadata": {},
   "outputs": [
    {
     "data": {
      "text/plain": [
       "anime_id    0\n",
       "name        0\n",
       "genre       0\n",
       "type        0\n",
       "episodes    0\n",
       "rating      0\n",
       "members     0\n",
       "dtype: int64"
      ]
     },
     "execution_count": 16,
     "metadata": {},
     "output_type": "execute_result"
    }
   ],
   "source": [
    "df.isnull().sum()"
   ]
  },
  {
   "cell_type": "code",
   "execution_count": 17,
   "id": "7d7c2130-9f03-45e4-9112-70c20c50f2fc",
   "metadata": {},
   "outputs": [
    {
     "data": {
      "text/plain": [
       "Index(['anime_id', 'name', 'genre', 'type', 'episodes', 'rating', 'members'], dtype='object')"
      ]
     },
     "execution_count": 17,
     "metadata": {},
     "output_type": "execute_result"
    }
   ],
   "source": [
    "df.columns"
   ]
  },
  {
   "cell_type": "code",
   "execution_count": 18,
   "id": "3597540b-b92f-4381-aab3-d4394da40db3",
   "metadata": {},
   "outputs": [],
   "source": [
    "from sklearn.feature_extraction.text import TfidfVectorizer\n",
    "from sklearn.metrics.pairwise import cosine_similarity\n",
    "df['combined_features'] = df['genre'] + ' ' + df['episodes']\n",
    "tfidf = TfidfVectorizer(stop_words='english')\n",
    "tfidf_matrix = tfidf.fit_transform(df['combined_features'])\n",
    "cosine_sim = cosine_similarity(tfidf_matrix, tfidf_matrix)"
   ]
  },
  {
   "cell_type": "code",
   "execution_count": 19,
   "id": "53ec0ced-2de4-4724-b7cf-9eb74f7134ab",
   "metadata": {},
   "outputs": [],
   "source": [
    "def hybrid_recommendation(user_id, anime_id, alpha=0.5):\n",
    "    # Collaborative filtering prediction\n",
    "    user_id_to_index = {user_id: idx for idx, user_id in enumerate(user_ids)}\n",
    "    anime_id_to_index = {anime_id: idx for idx, anime_id in enumerate(anime_ids)}\n",
    "    # user_index = rating_df[rating_df['user_id'] == user_id].index[0]\n",
    "    # anime_index = rating_df[rating_df['anime_id'] == anime_id].index[0]\n",
    "    user_index = user_id_to_index[user_id]\n",
    "    anime_index = anime_id_to_index[anime_id]\n",
    "    #print(user_id_to_index)\n",
    "    #print(anime_id_to_index)\n",
    "    collab_pred = predicted_ratings[user_index, anime_index]\n",
    "    \n",
    "    # Content-based filtering prediction (similarity score for movies)\n",
    "    content_pred = cosine_sim[anime_index].mean()\n",
    "    \n",
    "    # Hybrid score: weighted sum of both\n",
    "    final_score = alpha * collab_pred + (1 - alpha) * content_pred\n",
    "    return final_score"
   ]
  },
  {
   "cell_type": "code",
   "execution_count": 52,
   "id": "8e1ecaf0-d5a1-4912-8cc6-ffd3bf96ffcd",
   "metadata": {},
   "outputs": [],
   "source": [
    "# Predict rating for a specific user and movie\n",
    "def predict_rating(user_id, anime_id):\n",
    "    return hybrid_recommendation(user_id=user_id, anime_id=anime_id)\n",
    "\n",
    "def recommend_top_5_movies(user_id, alpha=0.5):\n",
    "    # Get all movies the user has not rated yet\n",
    "    user_ratings = rating_df[rating_df['user_id'] == user_id]\n",
    "    rated_movies_id = user_ratings['anime_id'].tolist()\n",
    "    all_movies = df['anime_id'].unique()\n",
    "    \n",
    "    # Predict ratings for all unrated movies\n",
    "    predictions = []\n",
    "    for movie_id in all_movies:\n",
    "        if movie_id not in rated_movies_id:\n",
    "            predicted_score = hybrid_recommendation(user_id, movie_id, alpha=alpha)\n",
    "            \n",
    "            predictions.append((movie_id, predicted_score))\n",
    "    \n",
    "    # Sort predictions by score and select the top 5\n",
    "    top_5_movies = sorted(predictions, key=lambda x: x[1], reverse=True)[:5]\n",
    "    return top_5_movies"
   ]
  },
  {
   "cell_type": "code",
   "execution_count": 53,
   "id": "635c8c53-bf9a-461a-a882-b4392f7882e0",
   "metadata": {},
   "outputs": [
    {
     "name": "stdout",
     "output_type": "stream",
     "text": [
      "109\n"
     ]
    }
   ],
   "source": [
    "recommendation = recommend_top_5_movies(1)\n",
    "print(recommendation[1][0])"
   ]
  },
  {
   "cell_type": "code",
   "execution_count": 54,
   "id": "93082b7e-be00-4288-8fde-43824c97d5a0",
   "metadata": {},
   "outputs": [],
   "source": [
    "def movie_name(recommendation):\n",
    "    movie_with_rating = []\n",
    "    for i in recommendation:\n",
    "            movie_name = df[df['anime_id'] == i[0]]['name']\n",
    "            movie_with_rating.append((movie_name, i[1]))\n",
    "    print(movie_with_rating)"
   ]
  },
  {
   "cell_type": "code",
   "execution_count": 57,
   "id": "d7eb161b-f686-482b-9f67-b4ff1e5f253c",
   "metadata": {},
   "outputs": [],
   "source": [
    "def main_function():\n",
    "    try:\n",
    "        user_id = int(input('Enter the user id'))\n",
    "        movie_id = int(input('Enter the movie id'))\n",
    "        print(f'The user with {user_id} may rate the {movie_id} with {predict_rating(user_id, movie_id)} rating')\n",
    "        print(f'The user with {user_id} may like the movies below:')\n",
    "        recommendation = recommend_top_5_movies(user_id)\n",
    "        movie_name(recommendation)\n",
    "    except:\n",
    "        print(\"Error Occured\")"
   ]
  },
  {
   "cell_type": "code",
   "execution_count": 56,
   "id": "f263e11f-04c4-4c0a-a1bb-d13fdb93ec53",
   "metadata": {},
   "outputs": [
    {
     "name": "stdin",
     "output_type": "stream",
     "text": [
      "Enter the user id 101\n",
      "Enter the movie id 20\n"
     ]
    },
    {
     "name": "stdout",
     "output_type": "stream",
     "text": [
      "The user with 101 may rate the 20 with 0.06868802155784179 rating\n",
      "The user with 101 may like the movies below:\n",
      "[(3449    Naruto Movie 2: Dai Gekitotsu! Maboroshi no Ch...\n",
      "Name: name, dtype: object, 2.571388702171868), (14    Haikyuu!! Second Season\n",
      "Name: name, dtype: object, 2.556975795018381), (11489    Tokubetsu Byoutou\n",
      "Name: name, dtype: object, 0.10940045844551316), (90    Evangelion: 2.0 You Can (Not) Advance\n",
      "Name: name, dtype: object, 0.10940045844551284), (3211    Kimi ga Nozomu Eien: Next Season\n",
      "Name: name, dtype: object, 0.10940045844551273)]\n"
     ]
    }
   ],
   "source": [
    "main_function()"
   ]
  },
  {
   "cell_type": "code",
   "execution_count": null,
   "id": "f0329e93-28fd-4543-bbbf-ff9ad79b01c7",
   "metadata": {},
   "outputs": [],
   "source": []
  }
 ],
 "metadata": {
  "kernelspec": {
   "display_name": "torch",
   "language": "python",
   "name": "torch"
  },
  "language_info": {
   "codemirror_mode": {
    "name": "ipython",
    "version": 3
   },
   "file_extension": ".py",
   "mimetype": "text/x-python",
   "name": "python",
   "nbconvert_exporter": "python",
   "pygments_lexer": "ipython3",
   "version": "3.11.9"
  }
 },
 "nbformat": 4,
 "nbformat_minor": 5
}
